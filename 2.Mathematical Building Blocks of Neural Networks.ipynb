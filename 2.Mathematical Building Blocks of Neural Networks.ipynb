{
 "cells": [
  {
   "cell_type": "markdown",
   "metadata": {},
   "source": [
    "# Before we Begin: Mathematical Building Blocks of Neural Networks\n",
    "- Understanding DL requires familiarity with simple mathematical concepts:\n",
    "  - Tensor\n",
    "  - Tensor Operations\n",
    "  - Differentiation\n",
    "  - Gradient Descent\n",
    "  - and more\n",
    "- We will begin with a practical example of NN."
   ]
  },
  {
   "cell_type": "markdown",
   "metadata": {},
   "source": [
    "## A first look at Neural Network\n",
    "- A NN that classifies handwritten digits\n",
    "- Problem:\n",
    "  - Classify grayscale images of handwrittem digits (28x28 pixels) into their 10 categories (0 through 9)\n",
    "  - Dataset used: MNIST\n",
    "    - 60,000 training examples and\n",
    "    - 10,000 testing examples\n",
    "\n",
    "- Loading the MNIST dataset. It comes preloaded in Keras in form of 4 numpy arrays."
   ]
  },
  {
   "cell_type": "code",
   "execution_count": 13,
   "metadata": {},
   "outputs": [],
   "source": [
    "from keras.datasets import mnist\n",
    "\n",
    "(train_images, train_labels), (test_images, test_labels) = mnist.load_data()"
   ]
  },
  {
   "cell_type": "markdown",
   "metadata": {},
   "source": [
    "`train_images` and `train_labels` form the training set and, `test_images` and `test_labels` form testing set. Model will learn from training set and its performance will be measured using testing set.\n",
    "\n",
    "Some examples from training images:"
   ]
  },
  {
   "cell_type": "code",
   "execution_count": 14,
   "metadata": {},
   "outputs": [
    {
     "data": {
      "image/png": "[encoded data removed]",
      "text/plain": [
       "<matplotlib.figure.Figure at 0x13d0de33940>"
      ]
     },
     "metadata": {},
     "output_type": "display_data"
    }
   ],
   "source": [
    "import matplotlib.pyplot as plt\n",
    "import numpy as np\n",
    "\n",
    "indices = np.random.permutation(train_images.shape[0])[:16]\n",
    "images = train_images[indices]\n",
    "plt.figure(figsize=(7, 7))\n",
    "plt.suptitle('MNIST DATASET')\n",
    "for i in range(1, 17):\n",
    "    plt.subplot(4, 4, i)\n",
    "    plt.imshow(images[i-1], cmap='gray')\n",
    "    plt.axis('off')\n",
    "plt.show()"
   ]
  },
  {
   "cell_type": "markdown",
   "metadata": {},
   "source": [
    "The images are numpy arrays and the labels are an array of digits with range => \\[0, 9\\]. Images and labels have one-to-one correspondence. Let's look at the shape of all these arrays."
   ]
  },
  {
   "cell_type": "code",
   "execution_count": 3,
   "metadata": {},
   "outputs": [
    {
     "name": "stdout",
     "output_type": "stream",
     "text": [
      "Train Images Shape: (60000, 28, 28)\n",
      "Train Labels Shape: (60000,)\n",
      "Test Images Shape: (10000, 28, 28)\n",
      "Test Labels Shape: (10000,)\n"
     ]
    }
   ],
   "source": [
    "print('Train Images Shape:', train_images.shape)\n",
    "print('Train Labels Shape:', train_labels.shape)\n",
    "print('Test Images Shape:', test_images.shape)\n",
    "print('Test Labels Shape:', test_labels.shape)"
   ]
  },
  {
   "cell_type": "code",
   "execution_count": 4,
   "metadata": {},
   "outputs": [
    {
     "data": {
      "text/plain": [
       "array([5, 0, 4, ..., 5, 6, 8], dtype=uint8)"
      ]
     },
     "execution_count": 4,
     "metadata": {},
     "output_type": "execute_result"
    }
   ],
   "source": [
    "train_labels"
   ]
  },
  {
   "cell_type": "code",
   "execution_count": 5,
   "metadata": {},
   "outputs": [
    {
     "data": {
      "text/plain": [
       "array([7, 2, 1, ..., 4, 5, 6], dtype=uint8)"
      ]
     },
     "execution_count": 5,
     "metadata": {},
     "output_type": "execute_result"
    }
   ],
   "source": [
    "test_labels"
   ]
  },
  {
   "cell_type": "markdown",
   "metadata": {},
   "source": [
    "Let's start building the neural network."
   ]
  },
  {
   "cell_type": "code",
   "execution_count": 6,
   "metadata": {},
   "outputs": [],
   "source": [
    "from keras import models\n",
    "from keras import layers\n",
    "\n",
    "network = models.Sequential()\n",
    "network.add(layers.Dense(512, activation='relu', input_shape=(28*28,)))\n",
    "network.add(layers.Dense(10, activation='softmax'))"
   ]
  },
  {
   "cell_type": "markdown",
   "metadata": {},
   "source": [
    "Without going too much into details:\n",
    "  - Building Block of NN is a *layer*.\n",
    "  - It can be considered as a data filter - some data goes in and comes out in a more useful form.\n",
    "  - layers extract *representation* out of data, hopefully which are more useful for the given problem.\n",
    "  - Most deep learning is chaining these layers to implement a form of progressive *data distillation*.\n",
    "  - Here the model is a *sequence* of 2 layers.\n",
    "  - Last layer is a 10-way softmax, i.e., it will return an array of 10 probabilities summing to 1. Each score will be probability of input being the digit at the index of the score.\n",
    "  \n",
    "  \n",
    "Making the network ready for training, we need to add 3 more things:\n",
    "  - *loss function*: to measure performance on training set and steer itself in right direction.\n",
    "  - *optimizer*: The mechanism to steer in the right direction, by updating weights from feedback by *loss function*.\n",
    "  - *metrics* or *monitoring during training and testing* - Here we will only care about accuracy (fraction of images correctly classified)."
   ]
  },
  {
   "cell_type": "code",
   "execution_count": 7,
   "metadata": {},
   "outputs": [],
   "source": [
    "network.compile(optimizer='rmsprop',\n",
    "                loss='categorical_crossentropy',\n",
    "                metrics=['accuracy'])"
   ]
  },
  {
   "cell_type": "markdown",
   "metadata": {},
   "source": [
    "Preprocessing the data:\n",
    "  - Reshape the data into the shape network expects: (60000, 28, 28) => (60000, 28\\*28)\n",
    "  - Scaling the data so each value is in \\[0, 1\\]: values currently in \\[0, 255\\]. Before scaling we convert values from current dtype of `uint8` to `float32`."
   ]
  },
  {
   "cell_type": "code",
   "execution_count": 8,
   "metadata": {},
   "outputs": [],
   "source": [
    "train_images = train_images.reshape((-1, 28*28))\n",
    "train_images = train_images.astype('float32') / 255.\n",
    "\n",
    "test_images = test_images.reshape((-1, 28*28))\n",
    "test_images = test_images.astype('float32') / 255."
   ]
  },
  {
   "cell_type": "markdown",
   "metadata": {},
   "source": [
    "Categorical encoding of data (Step explained in chapter 3):"
   ]
  },
  {
   "cell_type": "code",
   "execution_count": 9,
   "metadata": {},
   "outputs": [],
   "source": [
    "from keras.utils import to_categorical\n",
    "\n",
    "train_labels = to_categorical(train_labels)\n",
    "test_labels = to_categorical(test_labels)"
   ]
  },
  {
   "cell_type": "markdown",
   "metadata": {},
   "source": [
    "Time to train the model on the training data. This is done via `fit` method of the model."
   ]
  },
  {
   "cell_type": "code",
   "execution_count": 10,
   "metadata": {},
   "outputs": [
    {
     "name": "stdout",
     "output_type": "stream",
     "text": [
      "Epoch 1/5\n",
      "60000/60000 [==============================] - 22s 371us/step - loss: 0.2549 - acc: 0.9260\n",
      "Epoch 2/5\n",
      "60000/60000 [==============================] - 5s 89us/step - loss: 0.1034 - acc: 0.9693\n",
      "Epoch 3/5\n",
      "60000/60000 [==============================] - 5s 89us/step - loss: 0.0681 - acc: 0.9790\n",
      "Epoch 4/5\n",
      "60000/60000 [==============================] - 5s 90us/step - loss: 0.0492 - acc: 0.9853\n",
      "Epoch 5/5\n",
      "60000/60000 [==============================] - 5s 88us/step - loss: 0.0368 - acc: 0.9892\n"
     ]
    },
    {
     "data": {
      "text/plain": [
       "<keras.callbacks.History at 0x13d14830898>"
      ]
     },
     "execution_count": 10,
     "metadata": {},
     "output_type": "execute_result"
    }
   ],
   "source": [
    "network.fit(train_images, train_labels, epochs=5, batch_size=128)"
   ]
  },
  {
   "cell_type": "markdown",
   "metadata": {},
   "source": [
    "2 quantities are displayed during training:\n",
    "  - loss of network over training data\n",
    "  - accuracy of network over training data.\n",
    "\n",
    "Final loss on training data: 0.0368 and final accuracy 98.9%\n",
    "\n",
    "Model's performance on test set:"
   ]
  },
  {
   "cell_type": "code",
   "execution_count": 11,
   "metadata": {},
   "outputs": [
    {
     "name": "stdout",
     "output_type": "stream",
     "text": [
      "10000/10000 [==============================] - 1s 86us/step\n"
     ]
    }
   ],
   "source": [
    "test_loss, test_acc = network.evaluate(test_images, test_labels)"
   ]
  },
  {
   "cell_type": "code",
   "execution_count": 12,
   "metadata": {},
   "outputs": [
    {
     "name": "stdout",
     "output_type": "stream",
     "text": [
      "test loss: 0.07229867882688995\n",
      "test acc: 0.9772\n"
     ]
    }
   ],
   "source": [
    "print('test loss:', test_loss)\n",
    "print('test acc:', test_acc)"
   ]
  },
  {
   "cell_type": "markdown",
   "metadata": {},
   "source": [
    "Model's accuracy on test set is 97.7% which lower than the training set. This gap between the accuracy is *overfitting*: the fact model tends to perform worse on new data as compared to training data.\n",
    "\n",
    "Now let's learn about the mathematical concepts."
   ]
  },
  {
   "cell_type": "markdown",
   "metadata": {},
   "source": [
    "## Data Representations for Neural Network"
   ]
  },
  {
   "cell_type": "code",
   "execution_count": null,
   "metadata": {},
   "outputs": [],
   "source": []
  }
 ],
 "metadata": {
  "kernelspec": {
   "display_name": "Python 3",
   "language": "python",
   "name": "python3"
  },
  "language_info": {
   "codemirror_mode": {
    "name": "ipython",
    "version": 3
   },
   "file_extension": ".py",
   "mimetype": "text/x-python",
   "name": "python",
   "nbconvert_exporter": "python",
   "pygments_lexer": "ipython3",
   "version": "3.5.1"
  }
 },
 "nbformat": 4,
 "nbformat_minor": 2
}
